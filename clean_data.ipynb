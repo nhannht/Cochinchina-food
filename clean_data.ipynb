{
 "cells": [
  {
   "cell_type": "code",
   "execution_count": 32,
   "id": "initial_id",
   "metadata": {
    "collapsed": true,
    "ExecuteTime": {
     "end_time": "2023-11-16T08:02:56.714200067Z",
     "start_time": "2023-11-16T08:02:55.890150714Z"
    }
   },
   "outputs": [],
   "source": [
    "import pandas as pd\n"
   ]
  },
  {
   "cell_type": "code",
   "execution_count": 33,
   "outputs": [
    {
     "data": {
      "text/plain": "    tablescraper-selected-row tablescraper-selected-row 2  \\\n0                     THỨC ĂN                    SỐ LƯỢNG   \n1                   Cơm trắng                  1 chén vừa   \n2                   Cơm trắng              1 đĩa cơm phần   \n3               Bầu xào trứng                       1 đĩa   \n4                      Bò bía                      3 cuốn   \n..                        ...                         ...   \n304                    Vú sữa                      1 trái   \n305                        Ổi                      1 trái   \n306                Thanh long                      1 trái   \n307                    Mận đỏ                      1 trái   \n308                    Củ sắn                        1 củ   \n\n    tablescraper-selected-row 3 tablescraper-selected-row 4  \\\n0                   CALO (kcal)                     ĐẠM (g)   \n1                           200                         4.6   \n2                           406                         9.3   \n3                           109                           4   \n4                            93                         5.8   \n..                          ...                         ...   \n304                          83                         NaN   \n305                          53                         NaN   \n306                         225                         NaN   \n307                          11                         NaN   \n308                          52                         NaN   \n\n    tablescraper-selected-row 5 tablescraper-selected-row 6  \\\n0                       BÉO (g)             BỘT / ĐƯỜNG (g)   \n1                           0.6                        44.2   \n2                           1.2                        89.9   \n3                           8.5                           4   \n4                           4.3                         7.7   \n..                          ...                         ...   \n304                           2                           0   \n305                           1                           0   \n306                         7.3                           0   \n307                         0.3                           0   \n308                         1.9                           0   \n\n    tablescraper-selected-row 7  \n0                        XƠ (g)  \n1                          0.23  \n2                          0.47  \n3                           1.3  \n4                          0.47  \n..                          ...  \n304                        18.5  \n305                        12.3  \n306                          49  \n307                         2.5  \n308                        11.1  \n\n[309 rows x 7 columns]",
      "text/html": "<div>\n<style scoped>\n    .dataframe tbody tr th:only-of-type {\n        vertical-align: middle;\n    }\n\n    .dataframe tbody tr th {\n        vertical-align: top;\n    }\n\n    .dataframe thead th {\n        text-align: right;\n    }\n</style>\n<table border=\"1\" class=\"dataframe\">\n  <thead>\n    <tr style=\"text-align: right;\">\n      <th></th>\n      <th>tablescraper-selected-row</th>\n      <th>tablescraper-selected-row 2</th>\n      <th>tablescraper-selected-row 3</th>\n      <th>tablescraper-selected-row 4</th>\n      <th>tablescraper-selected-row 5</th>\n      <th>tablescraper-selected-row 6</th>\n      <th>tablescraper-selected-row 7</th>\n    </tr>\n  </thead>\n  <tbody>\n    <tr>\n      <th>0</th>\n      <td>THỨC ĂN</td>\n      <td>SỐ LƯỢNG</td>\n      <td>CALO (kcal)</td>\n      <td>ĐẠM (g)</td>\n      <td>BÉO (g)</td>\n      <td>BỘT / ĐƯỜNG (g)</td>\n      <td>XƠ (g)</td>\n    </tr>\n    <tr>\n      <th>1</th>\n      <td>Cơm trắng</td>\n      <td>1 chén vừa</td>\n      <td>200</td>\n      <td>4.6</td>\n      <td>0.6</td>\n      <td>44.2</td>\n      <td>0.23</td>\n    </tr>\n    <tr>\n      <th>2</th>\n      <td>Cơm trắng</td>\n      <td>1 đĩa cơm phần</td>\n      <td>406</td>\n      <td>9.3</td>\n      <td>1.2</td>\n      <td>89.9</td>\n      <td>0.47</td>\n    </tr>\n    <tr>\n      <th>3</th>\n      <td>Bầu xào trứng</td>\n      <td>1 đĩa</td>\n      <td>109</td>\n      <td>4</td>\n      <td>8.5</td>\n      <td>4</td>\n      <td>1.3</td>\n    </tr>\n    <tr>\n      <th>4</th>\n      <td>Bò bía</td>\n      <td>3 cuốn</td>\n      <td>93</td>\n      <td>5.8</td>\n      <td>4.3</td>\n      <td>7.7</td>\n      <td>0.47</td>\n    </tr>\n    <tr>\n      <th>...</th>\n      <td>...</td>\n      <td>...</td>\n      <td>...</td>\n      <td>...</td>\n      <td>...</td>\n      <td>...</td>\n      <td>...</td>\n    </tr>\n    <tr>\n      <th>304</th>\n      <td>Vú sữa</td>\n      <td>1 trái</td>\n      <td>83</td>\n      <td>NaN</td>\n      <td>2</td>\n      <td>0</td>\n      <td>18.5</td>\n    </tr>\n    <tr>\n      <th>305</th>\n      <td>Ổi</td>\n      <td>1 trái</td>\n      <td>53</td>\n      <td>NaN</td>\n      <td>1</td>\n      <td>0</td>\n      <td>12.3</td>\n    </tr>\n    <tr>\n      <th>306</th>\n      <td>Thanh long</td>\n      <td>1 trái</td>\n      <td>225</td>\n      <td>NaN</td>\n      <td>7.3</td>\n      <td>0</td>\n      <td>49</td>\n    </tr>\n    <tr>\n      <th>307</th>\n      <td>Mận đỏ</td>\n      <td>1 trái</td>\n      <td>11</td>\n      <td>NaN</td>\n      <td>0.3</td>\n      <td>0</td>\n      <td>2.5</td>\n    </tr>\n    <tr>\n      <th>308</th>\n      <td>Củ sắn</td>\n      <td>1 củ</td>\n      <td>52</td>\n      <td>NaN</td>\n      <td>1.9</td>\n      <td>0</td>\n      <td>11.1</td>\n    </tr>\n  </tbody>\n</table>\n<p>309 rows × 7 columns</p>\n</div>"
     },
     "execution_count": 33,
     "metadata": {},
     "output_type": "execute_result"
    }
   ],
   "source": [
    "df1 = pd.read_csv('vietnamesenutrition1.csv')\n",
    "df1"
   ],
   "metadata": {
    "collapsed": false,
    "ExecuteTime": {
     "end_time": "2023-11-16T08:03:06.196750752Z",
     "start_time": "2023-11-16T08:03:06.122022779Z"
    }
   },
   "id": "f5970810842a4609"
  },
  {
   "cell_type": "code",
   "execution_count": 51,
   "outputs": [
    {
     "data": {
      "text/plain": "           THỨC ĂN        SỐ LƯỢNG  CALO (kcal)  ĐẠM (g)  BÉO (g)  \\\n0          THỨC ĂN        SỐ LƯỢNG  CALO (kcal)  ĐẠM (g)  BÉO (g)   \n1        Cơm trắng      1 chén vừa          200      4.6      0.6   \n2        Cơm trắng  1 đĩa cơm phần          406      9.3      1.2   \n3    Bầu xào trứng           1 đĩa          109        4      8.5   \n4           Bò bía          3 cuốn           93      5.8      4.3   \n..             ...             ...          ...      ...      ...   \n304         Vú sữa          1 trái           83      NaN        2   \n305             Ổi          1 trái           53      NaN        1   \n306     Thanh long          1 trái          225      NaN      7.3   \n307         Mận đỏ          1 trái           11      NaN      0.3   \n308         Củ sắn            1 củ           52      NaN      1.9   \n\n     BỘT / ĐƯỜNG (g)  XƠ (g)  \n0    BỘT / ĐƯỜNG (g)  XƠ (g)  \n1               44.2    0.23  \n2               89.9    0.47  \n3                  4     1.3  \n4                7.7    0.47  \n..               ...     ...  \n304                0    18.5  \n305                0    12.3  \n306                0      49  \n307                0     2.5  \n308                0    11.1  \n\n[309 rows x 7 columns]",
      "text/html": "<div>\n<style scoped>\n    .dataframe tbody tr th:only-of-type {\n        vertical-align: middle;\n    }\n\n    .dataframe tbody tr th {\n        vertical-align: top;\n    }\n\n    .dataframe thead th {\n        text-align: right;\n    }\n</style>\n<table border=\"1\" class=\"dataframe\">\n  <thead>\n    <tr style=\"text-align: right;\">\n      <th></th>\n      <th>THỨC ĂN</th>\n      <th>SỐ LƯỢNG</th>\n      <th>CALO (kcal)</th>\n      <th>ĐẠM (g)</th>\n      <th>BÉO (g)</th>\n      <th>BỘT / ĐƯỜNG (g)</th>\n      <th>XƠ (g)</th>\n    </tr>\n  </thead>\n  <tbody>\n    <tr>\n      <th>0</th>\n      <td>THỨC ĂN</td>\n      <td>SỐ LƯỢNG</td>\n      <td>CALO (kcal)</td>\n      <td>ĐẠM (g)</td>\n      <td>BÉO (g)</td>\n      <td>BỘT / ĐƯỜNG (g)</td>\n      <td>XƠ (g)</td>\n    </tr>\n    <tr>\n      <th>1</th>\n      <td>Cơm trắng</td>\n      <td>1 chén vừa</td>\n      <td>200</td>\n      <td>4.6</td>\n      <td>0.6</td>\n      <td>44.2</td>\n      <td>0.23</td>\n    </tr>\n    <tr>\n      <th>2</th>\n      <td>Cơm trắng</td>\n      <td>1 đĩa cơm phần</td>\n      <td>406</td>\n      <td>9.3</td>\n      <td>1.2</td>\n      <td>89.9</td>\n      <td>0.47</td>\n    </tr>\n    <tr>\n      <th>3</th>\n      <td>Bầu xào trứng</td>\n      <td>1 đĩa</td>\n      <td>109</td>\n      <td>4</td>\n      <td>8.5</td>\n      <td>4</td>\n      <td>1.3</td>\n    </tr>\n    <tr>\n      <th>4</th>\n      <td>Bò bía</td>\n      <td>3 cuốn</td>\n      <td>93</td>\n      <td>5.8</td>\n      <td>4.3</td>\n      <td>7.7</td>\n      <td>0.47</td>\n    </tr>\n    <tr>\n      <th>...</th>\n      <td>...</td>\n      <td>...</td>\n      <td>...</td>\n      <td>...</td>\n      <td>...</td>\n      <td>...</td>\n      <td>...</td>\n    </tr>\n    <tr>\n      <th>304</th>\n      <td>Vú sữa</td>\n      <td>1 trái</td>\n      <td>83</td>\n      <td>NaN</td>\n      <td>2</td>\n      <td>0</td>\n      <td>18.5</td>\n    </tr>\n    <tr>\n      <th>305</th>\n      <td>Ổi</td>\n      <td>1 trái</td>\n      <td>53</td>\n      <td>NaN</td>\n      <td>1</td>\n      <td>0</td>\n      <td>12.3</td>\n    </tr>\n    <tr>\n      <th>306</th>\n      <td>Thanh long</td>\n      <td>1 trái</td>\n      <td>225</td>\n      <td>NaN</td>\n      <td>7.3</td>\n      <td>0</td>\n      <td>49</td>\n    </tr>\n    <tr>\n      <th>307</th>\n      <td>Mận đỏ</td>\n      <td>1 trái</td>\n      <td>11</td>\n      <td>NaN</td>\n      <td>0.3</td>\n      <td>0</td>\n      <td>2.5</td>\n    </tr>\n    <tr>\n      <th>308</th>\n      <td>Củ sắn</td>\n      <td>1 củ</td>\n      <td>52</td>\n      <td>NaN</td>\n      <td>1.9</td>\n      <td>0</td>\n      <td>11.1</td>\n    </tr>\n  </tbody>\n</table>\n<p>309 rows × 7 columns</p>\n</div>"
     },
     "execution_count": 51,
     "metadata": {},
     "output_type": "execute_result"
    }
   ],
   "source": [
    "# cp the second row to first row\n",
    "\n",
    "row0 = df1.loc[0].tolist()\n",
    "head = df1.columns.tolist()\n",
    "df1 = df1.rename(columns=dict(zip(head,row0)))"
   ],
   "metadata": {
    "collapsed": false,
    "ExecuteTime": {
     "end_time": "2023-11-16T08:07:58.526269053Z",
     "start_time": "2023-11-16T08:07:58.486330794Z"
    }
   },
   "id": "949dba2ac40cd76c"
  },
  {
   "cell_type": "code",
   "execution_count": 56,
   "outputs": [
    {
     "data": {
      "text/plain": "            THỨC ĂN        SỐ LƯỢNG CALO (kcal) ĐẠM (g) BÉO (g)  \\\n1         Cơm trắng      1 chén vừa         200     4.6     0.6   \n2         Cơm trắng  1 đĩa cơm phần         406     9.3     1.2   \n3     Bầu xào trứng           1 đĩa         109       4     8.5   \n4            Bò bía          3 cuốn          93     5.8     4.3   \n5    Bò cuốn lá lốt          8 cuốn         841      49    12.5   \n..              ...             ...         ...     ...     ...   \n304          Vú sữa          1 trái          83     NaN       2   \n305              Ổi          1 trái          53     NaN       1   \n306      Thanh long          1 trái         225     NaN     7.3   \n307          Mận đỏ          1 trái          11     NaN     0.3   \n308          Củ sắn            1 củ          52     NaN     1.9   \n\n    BỘT / ĐƯỜNG (g) XƠ (g)  \n1              44.2   0.23  \n2              89.9   0.47  \n3                 4    1.3  \n4               7.7   0.47  \n5             133.1   6.86  \n..              ...    ...  \n304               0   18.5  \n305               0   12.3  \n306               0     49  \n307               0    2.5  \n308               0   11.1  \n\n[308 rows x 7 columns]",
      "text/html": "<div>\n<style scoped>\n    .dataframe tbody tr th:only-of-type {\n        vertical-align: middle;\n    }\n\n    .dataframe tbody tr th {\n        vertical-align: top;\n    }\n\n    .dataframe thead th {\n        text-align: right;\n    }\n</style>\n<table border=\"1\" class=\"dataframe\">\n  <thead>\n    <tr style=\"text-align: right;\">\n      <th></th>\n      <th>THỨC ĂN</th>\n      <th>SỐ LƯỢNG</th>\n      <th>CALO (kcal)</th>\n      <th>ĐẠM (g)</th>\n      <th>BÉO (g)</th>\n      <th>BỘT / ĐƯỜNG (g)</th>\n      <th>XƠ (g)</th>\n    </tr>\n  </thead>\n  <tbody>\n    <tr>\n      <th>1</th>\n      <td>Cơm trắng</td>\n      <td>1 chén vừa</td>\n      <td>200</td>\n      <td>4.6</td>\n      <td>0.6</td>\n      <td>44.2</td>\n      <td>0.23</td>\n    </tr>\n    <tr>\n      <th>2</th>\n      <td>Cơm trắng</td>\n      <td>1 đĩa cơm phần</td>\n      <td>406</td>\n      <td>9.3</td>\n      <td>1.2</td>\n      <td>89.9</td>\n      <td>0.47</td>\n    </tr>\n    <tr>\n      <th>3</th>\n      <td>Bầu xào trứng</td>\n      <td>1 đĩa</td>\n      <td>109</td>\n      <td>4</td>\n      <td>8.5</td>\n      <td>4</td>\n      <td>1.3</td>\n    </tr>\n    <tr>\n      <th>4</th>\n      <td>Bò bía</td>\n      <td>3 cuốn</td>\n      <td>93</td>\n      <td>5.8</td>\n      <td>4.3</td>\n      <td>7.7</td>\n      <td>0.47</td>\n    </tr>\n    <tr>\n      <th>5</th>\n      <td>Bò cuốn lá lốt</td>\n      <td>8 cuốn</td>\n      <td>841</td>\n      <td>49</td>\n      <td>12.5</td>\n      <td>133.1</td>\n      <td>6.86</td>\n    </tr>\n    <tr>\n      <th>...</th>\n      <td>...</td>\n      <td>...</td>\n      <td>...</td>\n      <td>...</td>\n      <td>...</td>\n      <td>...</td>\n      <td>...</td>\n    </tr>\n    <tr>\n      <th>304</th>\n      <td>Vú sữa</td>\n      <td>1 trái</td>\n      <td>83</td>\n      <td>NaN</td>\n      <td>2</td>\n      <td>0</td>\n      <td>18.5</td>\n    </tr>\n    <tr>\n      <th>305</th>\n      <td>Ổi</td>\n      <td>1 trái</td>\n      <td>53</td>\n      <td>NaN</td>\n      <td>1</td>\n      <td>0</td>\n      <td>12.3</td>\n    </tr>\n    <tr>\n      <th>306</th>\n      <td>Thanh long</td>\n      <td>1 trái</td>\n      <td>225</td>\n      <td>NaN</td>\n      <td>7.3</td>\n      <td>0</td>\n      <td>49</td>\n    </tr>\n    <tr>\n      <th>307</th>\n      <td>Mận đỏ</td>\n      <td>1 trái</td>\n      <td>11</td>\n      <td>NaN</td>\n      <td>0.3</td>\n      <td>0</td>\n      <td>2.5</td>\n    </tr>\n    <tr>\n      <th>308</th>\n      <td>Củ sắn</td>\n      <td>1 củ</td>\n      <td>52</td>\n      <td>NaN</td>\n      <td>1.9</td>\n      <td>0</td>\n      <td>11.1</td>\n    </tr>\n  </tbody>\n</table>\n<p>308 rows × 7 columns</p>\n</div>"
     },
     "execution_count": 56,
     "metadata": {},
     "output_type": "execute_result"
    }
   ],
   "source": [
    "# remove first row\n",
    "df1"
   ],
   "metadata": {
    "collapsed": false,
    "ExecuteTime": {
     "end_time": "2023-11-16T08:10:26.950134641Z",
     "start_time": "2023-11-16T08:10:26.860955131Z"
    }
   },
   "id": "866889788b78c261"
  },
  {
   "cell_type": "code",
   "execution_count": 59,
   "outputs": [
    {
     "name": "stdout",
     "output_type": "stream",
     "text": [
      "<class 'pandas.core.frame.DataFrame'>\n",
      "RangeIndex: 308 entries, 1 to 308\n",
      "Data columns (total 7 columns):\n",
      " #   Column           Non-Null Count  Dtype \n",
      "---  ------           --------------  ----- \n",
      " 0   THỨC ĂN          308 non-null    object\n",
      " 1   SỐ LƯỢNG         308 non-null    object\n",
      " 2   CALO (kcal)      308 non-null    object\n",
      " 3   ĐẠM (g)          206 non-null    object\n",
      " 4   BÉO (g)          308 non-null    object\n",
      " 5   BỘT / ĐƯỜNG (g)  308 non-null    object\n",
      " 6   XƠ (g)           308 non-null    object\n",
      "dtypes: object(7)\n",
      "memory usage: 17.0+ KB\n"
     ]
    }
   ],
   "source": [
    "# info\n",
    "df1.info()"
   ],
   "metadata": {
    "collapsed": false,
    "ExecuteTime": {
     "end_time": "2023-11-16T08:12:28.940875437Z",
     "start_time": "2023-11-16T08:12:28.879186063Z"
    }
   },
   "id": "30051dc8880001ce"
  },
  {
   "cell_type": "code",
   "execution_count": 61,
   "outputs": [
    {
     "data": {
      "text/plain": "          THỨC ĂN SỐ LƯỢNG CALO (kcal) ĐẠM (g) BÉO (g) BỘT / ĐƯỜNG (g) XƠ (g)\ncount         308      308         308     206     308             308    308\nunique        295       50         231     154     153             196    209\ntop     Cơm trắng    1 đĩa          14    14.9     2.1               0      0\nfreq            2       54           4       4      10              48     23",
      "text/html": "<div>\n<style scoped>\n    .dataframe tbody tr th:only-of-type {\n        vertical-align: middle;\n    }\n\n    .dataframe tbody tr th {\n        vertical-align: top;\n    }\n\n    .dataframe thead th {\n        text-align: right;\n    }\n</style>\n<table border=\"1\" class=\"dataframe\">\n  <thead>\n    <tr style=\"text-align: right;\">\n      <th></th>\n      <th>THỨC ĂN</th>\n      <th>SỐ LƯỢNG</th>\n      <th>CALO (kcal)</th>\n      <th>ĐẠM (g)</th>\n      <th>BÉO (g)</th>\n      <th>BỘT / ĐƯỜNG (g)</th>\n      <th>XƠ (g)</th>\n    </tr>\n  </thead>\n  <tbody>\n    <tr>\n      <th>count</th>\n      <td>308</td>\n      <td>308</td>\n      <td>308</td>\n      <td>206</td>\n      <td>308</td>\n      <td>308</td>\n      <td>308</td>\n    </tr>\n    <tr>\n      <th>unique</th>\n      <td>295</td>\n      <td>50</td>\n      <td>231</td>\n      <td>154</td>\n      <td>153</td>\n      <td>196</td>\n      <td>209</td>\n    </tr>\n    <tr>\n      <th>top</th>\n      <td>Cơm trắng</td>\n      <td>1 đĩa</td>\n      <td>14</td>\n      <td>14.9</td>\n      <td>2.1</td>\n      <td>0</td>\n      <td>0</td>\n    </tr>\n    <tr>\n      <th>freq</th>\n      <td>2</td>\n      <td>54</td>\n      <td>4</td>\n      <td>4</td>\n      <td>10</td>\n      <td>48</td>\n      <td>23</td>\n    </tr>\n  </tbody>\n</table>\n</div>"
     },
     "execution_count": 61,
     "metadata": {},
     "output_type": "execute_result"
    }
   ],
   "source": [
    "# describe\n",
    "df1.describe(include='all')"
   ],
   "metadata": {
    "collapsed": false,
    "ExecuteTime": {
     "end_time": "2023-11-16T08:12:51.054715328Z",
     "start_time": "2023-11-16T08:12:50.890046468Z"
    }
   },
   "id": "bea1a8caed88b985"
  },
  {
   "cell_type": "code",
   "execution_count": 67,
   "outputs": [],
   "source": [
    "# convert dtype of third column to float\n",
    "float_columns = df1.columns.tolist()[2:]\n",
    "df1[float_columns] = df1[float_columns].astype(float)"
   ],
   "metadata": {
    "collapsed": false,
    "ExecuteTime": {
     "end_time": "2023-11-16T08:17:31.589162319Z",
     "start_time": "2023-11-16T08:17:31.542002356Z"
    }
   },
   "id": "42cd975425720dbf"
  },
  {
   "cell_type": "code",
   "execution_count": 77,
   "outputs": [],
   "source": [
    "# split so luong column to 2 column by split by space\n",
    "new_cols =  df1['SỐ LƯỢNG'].str.split(' ',expand=True,n=1)\n",
    "df1['number'] = new_cols[0]\n",
    "df1['unit'] = new_cols[1]\n",
    "df1 = df1.drop(columns='SỐ LƯỢNG')"
   ],
   "metadata": {
    "collapsed": false,
    "ExecuteTime": {
     "end_time": "2023-11-16T08:22:42.706173805Z",
     "start_time": "2023-11-16T08:22:42.690778106Z"
    }
   },
   "id": "e2188bc3c9965b23"
  },
  {
   "cell_type": "code",
   "execution_count": null,
   "outputs": [],
   "source": [
    "# extract all row that have number as string\n",
    "bad_rows = df1[df1['number'].str.contains('[a-zA-Z]')]\n",
    "# remove \n",
    "df1 = df1.drop(bad_rows.index)"
   ],
   "metadata": {
    "collapsed": false
   },
   "id": "7e0326d069ec7827"
  },
  {
   "cell_type": "code",
   "execution_count": 84,
   "outputs": [],
   "source": [
    "# convert number column to float\n",
    "df1['number'] = df1['number'].astype(float)"
   ],
   "metadata": {
    "collapsed": false,
    "ExecuteTime": {
     "end_time": "2023-11-16T08:24:56.477901533Z",
     "start_time": "2023-11-16T08:24:56.444455406Z"
    }
   },
   "id": "a80abeecc4d5f34d"
  },
  {
   "cell_type": "code",
   "execution_count": 85,
   "outputs": [],
   "source": [
    "# convert unit column and THỨC ĂN to string\n",
    "df1['unit'] = df1['unit'].astype(str)\n"
   ],
   "metadata": {
    "collapsed": false,
    "ExecuteTime": {
     "end_time": "2023-11-16T08:25:18.386863648Z",
     "start_time": "2023-11-16T08:25:18.304850771Z"
    }
   },
   "id": "23b799c3c667dfc2"
  },
  {
   "cell_type": "code",
   "execution_count": 86,
   "outputs": [],
   "source": [
    "# rename column name from non-english to english\n",
    "df1 = df1.rename(columns={'THỨC ĂN':'food'})\n",
    "df1 = df1.rename(columns={'ĐẠM (g)': 'protein (g)'})\n",
    "df1 = df1.rename(columns={'CHẤT BÉO (g)': 'fat (g)'})\n",
    "df1 = df1.rename(columns={'BỘT / ĐƯỜNG (g)': 'sugar (g)'})\n",
    "df1 = df1.rename(columns={'XƠ (g)': 'fiber (g)'})"
   ],
   "metadata": {
    "collapsed": false,
    "ExecuteTime": {
     "end_time": "2023-11-16T08:27:16.309325163Z",
     "start_time": "2023-11-16T08:27:16.269400238Z"
    }
   },
   "id": "a89fc490ebc32e07"
  },
  {
   "cell_type": "code",
   "execution_count": 87,
   "outputs": [
    {
     "data": {
      "text/plain": "               food  CALO (kcal)  protein (g)  BÉO (g)  sugar (g)  fiber (g)  \\\n1         Cơm trắng        200.0          4.6      0.6       44.2       0.23   \n2         Cơm trắng        406.0          9.3      1.2       89.9       0.47   \n3     Bầu xào trứng        109.0          4.0      8.5        4.0       1.30   \n4            Bò bía         93.0          5.8      4.3        7.7       0.47   \n5    Bò cuốn lá lốt        841.0         49.0     12.5      133.1       6.86   \n..              ...          ...          ...      ...        ...        ...   \n304          Vú sữa         83.0          NaN      2.0        0.0      18.50   \n305              Ổi         53.0          NaN      1.0        0.0      12.30   \n306      Thanh long        225.0          NaN      7.3        0.0      49.00   \n307          Mận đỏ         11.0          NaN      0.3        0.0       2.50   \n308          Củ sắn         52.0          NaN      1.9        0.0      11.10   \n\n     number          unit  \n1       1.0      chén vừa  \n2       1.0  đĩa cơm phần  \n3       1.0           đĩa  \n4       3.0          cuốn  \n5       8.0          cuốn  \n..      ...           ...  \n304     1.0          trái  \n305     1.0          trái  \n306     1.0          trái  \n307     1.0          trái  \n308     1.0            củ  \n\n[307 rows x 8 columns]",
      "text/html": "<div>\n<style scoped>\n    .dataframe tbody tr th:only-of-type {\n        vertical-align: middle;\n    }\n\n    .dataframe tbody tr th {\n        vertical-align: top;\n    }\n\n    .dataframe thead th {\n        text-align: right;\n    }\n</style>\n<table border=\"1\" class=\"dataframe\">\n  <thead>\n    <tr style=\"text-align: right;\">\n      <th></th>\n      <th>food</th>\n      <th>CALO (kcal)</th>\n      <th>protein (g)</th>\n      <th>BÉO (g)</th>\n      <th>sugar (g)</th>\n      <th>fiber (g)</th>\n      <th>number</th>\n      <th>unit</th>\n    </tr>\n  </thead>\n  <tbody>\n    <tr>\n      <th>1</th>\n      <td>Cơm trắng</td>\n      <td>200.0</td>\n      <td>4.6</td>\n      <td>0.6</td>\n      <td>44.2</td>\n      <td>0.23</td>\n      <td>1.0</td>\n      <td>chén vừa</td>\n    </tr>\n    <tr>\n      <th>2</th>\n      <td>Cơm trắng</td>\n      <td>406.0</td>\n      <td>9.3</td>\n      <td>1.2</td>\n      <td>89.9</td>\n      <td>0.47</td>\n      <td>1.0</td>\n      <td>đĩa cơm phần</td>\n    </tr>\n    <tr>\n      <th>3</th>\n      <td>Bầu xào trứng</td>\n      <td>109.0</td>\n      <td>4.0</td>\n      <td>8.5</td>\n      <td>4.0</td>\n      <td>1.30</td>\n      <td>1.0</td>\n      <td>đĩa</td>\n    </tr>\n    <tr>\n      <th>4</th>\n      <td>Bò bía</td>\n      <td>93.0</td>\n      <td>5.8</td>\n      <td>4.3</td>\n      <td>7.7</td>\n      <td>0.47</td>\n      <td>3.0</td>\n      <td>cuốn</td>\n    </tr>\n    <tr>\n      <th>5</th>\n      <td>Bò cuốn lá lốt</td>\n      <td>841.0</td>\n      <td>49.0</td>\n      <td>12.5</td>\n      <td>133.1</td>\n      <td>6.86</td>\n      <td>8.0</td>\n      <td>cuốn</td>\n    </tr>\n    <tr>\n      <th>...</th>\n      <td>...</td>\n      <td>...</td>\n      <td>...</td>\n      <td>...</td>\n      <td>...</td>\n      <td>...</td>\n      <td>...</td>\n      <td>...</td>\n    </tr>\n    <tr>\n      <th>304</th>\n      <td>Vú sữa</td>\n      <td>83.0</td>\n      <td>NaN</td>\n      <td>2.0</td>\n      <td>0.0</td>\n      <td>18.50</td>\n      <td>1.0</td>\n      <td>trái</td>\n    </tr>\n    <tr>\n      <th>305</th>\n      <td>Ổi</td>\n      <td>53.0</td>\n      <td>NaN</td>\n      <td>1.0</td>\n      <td>0.0</td>\n      <td>12.30</td>\n      <td>1.0</td>\n      <td>trái</td>\n    </tr>\n    <tr>\n      <th>306</th>\n      <td>Thanh long</td>\n      <td>225.0</td>\n      <td>NaN</td>\n      <td>7.3</td>\n      <td>0.0</td>\n      <td>49.00</td>\n      <td>1.0</td>\n      <td>trái</td>\n    </tr>\n    <tr>\n      <th>307</th>\n      <td>Mận đỏ</td>\n      <td>11.0</td>\n      <td>NaN</td>\n      <td>0.3</td>\n      <td>0.0</td>\n      <td>2.50</td>\n      <td>1.0</td>\n      <td>trái</td>\n    </tr>\n    <tr>\n      <th>308</th>\n      <td>Củ sắn</td>\n      <td>52.0</td>\n      <td>NaN</td>\n      <td>1.9</td>\n      <td>0.0</td>\n      <td>11.10</td>\n      <td>1.0</td>\n      <td>củ</td>\n    </tr>\n  </tbody>\n</table>\n<p>307 rows × 8 columns</p>\n</div>"
     },
     "execution_count": 87,
     "metadata": {},
     "output_type": "execute_result"
    }
   ],
   "source": [
    "df1"
   ],
   "metadata": {
    "collapsed": false,
    "ExecuteTime": {
     "end_time": "2023-11-16T08:27:19.317629194Z",
     "start_time": "2023-11-16T08:27:19.277300955Z"
    }
   },
   "id": "fadb1649139dd2e5"
  },
  {
   "cell_type": "code",
   "execution_count": 88,
   "outputs": [],
   "source": [
    "# save to csv\n",
    "df1.to_csv('vietnamesenutrition_clean.csv',index=False)"
   ],
   "metadata": {
    "collapsed": false,
    "ExecuteTime": {
     "end_time": "2023-11-16T08:27:38.454715628Z",
     "start_time": "2023-11-16T08:27:38.354107272Z"
    }
   },
   "id": "3c99dc105e4177d8"
  },
  {
   "cell_type": "code",
   "execution_count": null,
   "outputs": [],
   "source": [],
   "metadata": {
    "collapsed": false
   },
   "id": "b664182720b7618c"
  }
 ],
 "metadata": {
  "kernelspec": {
   "display_name": "Python 3",
   "language": "python",
   "name": "python3"
  },
  "language_info": {
   "codemirror_mode": {
    "name": "ipython",
    "version": 2
   },
   "file_extension": ".py",
   "mimetype": "text/x-python",
   "name": "python",
   "nbconvert_exporter": "python",
   "pygments_lexer": "ipython2",
   "version": "2.7.6"
  }
 },
 "nbformat": 4,
 "nbformat_minor": 5
}
